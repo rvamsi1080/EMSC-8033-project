{
 "cells": [
  {
   "cell_type": "markdown",
   "id": "cc23cb47-61dc-475b-92a7-23cc53eb31b5",
   "metadata": {},
   "source": [
    "# Run Tests\n",
    "This the notebook to run few tests to check if the functions defined are proper. 4 functions have been defined, and 2 tests functions have been formulated to test the first 2 of them. Since the remaining functions depend on the input of the user, I found it difficult to code test functions for the same."
   ]
  },
  {
   "cell_type": "code",
   "execution_count": 1,
   "id": "f7b28dc1-23a0-40f1-a085-971aada0ffd0",
   "metadata": {},
   "outputs": [],
   "source": [
    "from src import project_function"
   ]
  },
  {
   "cell_type": "code",
   "execution_count": 2,
   "id": "0e7f4e2c-e63e-4f32-a03f-c5929fc51d9a",
   "metadata": {},
   "outputs": [],
   "source": [
    "# downloading the data should not take long since the entire notebook is not very large"
   ]
  },
  {
   "cell_type": "code",
   "execution_count": 3,
   "id": "e0e1cc55-cc30-4eb9-8b2f-5ee2d4bb5605",
   "metadata": {},
   "outputs": [
    {
     "name": "stdout",
     "output_type": "stream",
     "text": [
      "\u001b[1m============================= test session starts ==============================\u001b[0m\n",
      "platform linux -- Python 3.9.7, pytest-7.1.2, pluggy-1.0.0\n",
      "rootdir: /home/jupyter-u7477538/EMSC-8033-project\n",
      "plugins: anyio-3.5.0\n",
      "collected 2 items                                                              \u001b[0m\u001b[1m\n",
      "\n",
      "tests/test_functions.py \u001b[32m.\u001b[0m\u001b[32m.\u001b[0m\u001b[32m                                               [100%]\u001b[0m\n",
      "\n",
      "\u001b[33m=============================== warnings summary ===============================\u001b[0m\n",
      "tests/test_functions.py::test_datasets\n",
      "  <frozen importlib._bootstrap>:228: RuntimeWarning: numpy.ndarray size changed, may indicate binary incompatibility. Expected 16 from C header, got 96 from PyObject\n",
      "\n",
      "tests/test_functions.py::test_datasets\n",
      "  /home/jupyter-u7477538/.local/lib/python3.9/site-packages/iris/coords.py:2045: UserWarning: Coordinate 'longitude' is not bounded, guessing contiguous bounds.\n",
      "    warnings.warn(\n",
      "\n",
      "tests/test_functions.py::test_datasets\n",
      "  /home/jupyter-u7477538/.local/lib/python3.9/site-packages/iris/coords.py:2045: UserWarning: Coordinate 'latitude' is not bounded, guessing contiguous bounds.\n",
      "    warnings.warn(\n",
      "\n",
      "-- Docs: https://docs.pytest.org/en/stable/how-to/capture-warnings.html\n",
      "\u001b[33m======================== \u001b[32m2 passed\u001b[0m, \u001b[33m\u001b[1m3 warnings\u001b[0m\u001b[33m in 2.01s\u001b[0m\u001b[33m =========================\u001b[0m\n"
     ]
    }
   ],
   "source": [
    "! pytest"
   ]
  },
  {
   "cell_type": "code",
   "execution_count": null,
   "id": "32480a23-92d1-41e3-a2f3-1104da73fd32",
   "metadata": {},
   "outputs": [],
   "source": []
  }
 ],
 "metadata": {
  "kernelspec": {
   "display_name": "Python 3 (ipykernel)",
   "language": "python",
   "name": "python3"
  },
  "language_info": {
   "codemirror_mode": {
    "name": "ipython",
    "version": 3
   },
   "file_extension": ".py",
   "mimetype": "text/x-python",
   "name": "python",
   "nbconvert_exporter": "python",
   "pygments_lexer": "ipython3",
   "version": "3.9.7"
  },
  "widgets": {
   "application/vnd.jupyter.widget-state+json": {
    "state": {},
    "version_major": 2,
    "version_minor": 0
   }
  }
 },
 "nbformat": 4,
 "nbformat_minor": 5
}
