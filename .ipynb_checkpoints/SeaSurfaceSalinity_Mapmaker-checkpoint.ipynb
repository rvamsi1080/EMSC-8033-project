{
 "cells": [
  {
   "cell_type": "markdown",
   "id": "2a523801-f96e-4160-a263-8c20e9573357",
   "metadata": {},
   "source": [
    "# Making a sea surface salinity map using simple mapping packages with the help of data obtained from online sources\n",
    "\n",
    "## About this Notebook\n",
    "This notebook is a template that has uses functions that have been defined beforehand to render the necessary output and plot the maps.\n",
    "\n",
    "These functions are called at their appropriate locations, to make the notebook run successfully. The user is not expected to make changes to the notebook unless and until the source code has been remapped to suit the needs of the user."
   ]
  },
  {
   "cell_type": "code",
   "execution_count": 1,
   "id": "954820f9-ef08-4526-983b-1cfef3f5936f",
   "metadata": {},
   "outputs": [],
   "source": [
    "from src.Dependencies import *\n",
    "from src.project_function import *"
   ]
  },
  {
   "cell_type": "code",
   "execution_count": 2,
   "id": "4c3fd03c-9fe7-41d5-928c-c6fe58e9d267",
   "metadata": {},
   "outputs": [
    {
     "data": {
      "text/markdown": [
       "\n",
       "    \n",
       "This markdown function returns a brief overview of the project and the obejective it tries to achieve.\n",
       "\n",
       "This notebook is programmed to create a pair of maps for the month of April, for two years that are 100 years apart (1922 and 2022). It has been designed in such a way that the user can specify which ocean they would like the map to be centered about.\n",
       "\n",
       "The notebook is fairly generalized and user friendly, with appropriate instructions and details provided prior to running the cells. The maps are plotted using inbuilt packages such as matplotlib and Cartopy, and the data is extracted using the iris module. The salinity data is obtained from the EN4 datasets of the Met Office - Hadley Center."
      ]
     },
     "metadata": {},
     "output_type": "display_data"
    }
   ],
   "source": [
    "display_markdown(proj_documentation(), raw=True)"
   ]
  },
  {
   "cell_type": "markdown",
   "id": "12a62aa9-e628-4492-930c-c93670b22a1f",
   "metadata": {},
   "source": [
    "# The Code"
   ]
  },
  {
   "cell_type": "code",
   "execution_count": 3,
   "id": "b8d99d18-9ec9-4db7-9236-8ecfdad7606f",
   "metadata": {},
   "outputs": [],
   "source": [
    "import warnings\n",
    "warnings.filterwarnings('ignore')"
   ]
  },
  {
   "cell_type": "code",
   "execution_count": 4,
   "id": "fc3d189a-b54b-45a6-9b2c-0879fca3722d",
   "metadata": {},
   "outputs": [],
   "source": [
    "datasets = load_datasets('EN.4.2.2.f.analysis.c14.202104.nc', 'EN.4.2.2.f.analysis.c14.192204.nc')"
   ]
  },
  {
   "cell_type": "code",
   "execution_count": 5,
   "id": "f3953339-d854-48f8-ad87-f6f89259a0b5",
   "metadata": {},
   "outputs": [
    {
     "name": "stdin",
     "output_type": "stream",
     "text": [
      "choose your ocean: Indian\n"
     ]
    }
   ],
   "source": [
    "selected_ocean = ocean_selector()"
   ]
  },
  {
   "cell_type": "code",
   "execution_count": 6,
   "id": "b4c2d3d8-6d3d-41b9-8f8d-d74f4373b9b3",
   "metadata": {},
   "outputs": [],
   "source": [
    "map_centre = central_lon(selected_ocean)"
   ]
  },
  {
   "cell_type": "code",
   "execution_count": 7,
   "id": "1d2c67f5-83e2-4031-8b17-0d05238191d3",
   "metadata": {},
   "outputs": [
    {
     "ename": "NameError",
     "evalue": "name 'ocean_location' is not defined",
     "output_type": "error",
     "traceback": [
      "\u001b[0;31m---------------------------------------------------------------------------\u001b[0m",
      "\u001b[0;31mNameError\u001b[0m                                 Traceback (most recent call last)",
      "Input \u001b[0;32mIn [7]\u001b[0m, in \u001b[0;36m<cell line: 2>\u001b[0;34m()\u001b[0m\n\u001b[1;32m      1\u001b[0m fig1 \u001b[38;5;241m=\u001b[39m plt\u001b[38;5;241m.\u001b[39mfigure(figsize\u001b[38;5;241m=\u001b[39m(\u001b[38;5;241m19\u001b[39m, \u001b[38;5;241m12\u001b[39m))\n\u001b[0;32m----> 2\u001b[0m ax \u001b[38;5;241m=\u001b[39m plt\u001b[38;5;241m.\u001b[39maxes(projection \u001b[38;5;241m=\u001b[39m ccrs\u001b[38;5;241m.\u001b[39mRobinson(central_longitude \u001b[38;5;241m=\u001b[39m \u001b[43mocean_location\u001b[49m[Ocean_list]))\n\u001b[1;32m      3\u001b[0m plt\u001b[38;5;241m.\u001b[39mpcolormesh(gridlons1, gridlats1, seasal_2021, transform \u001b[38;5;241m=\u001b[39m ccrs\u001b[38;5;241m.\u001b[39mPlateCarree(), cmap \u001b[38;5;241m=\u001b[39m \u001b[38;5;124m'\u001b[39m\u001b[38;5;124mcoolwarm\u001b[39m\u001b[38;5;124m'\u001b[39m)\n\u001b[1;32m      4\u001b[0m cbar \u001b[38;5;241m=\u001b[39m plt\u001b[38;5;241m.\u001b[39mcolorbar()\n",
      "\u001b[0;31mNameError\u001b[0m: name 'ocean_location' is not defined"
     ]
    },
    {
     "data": {
      "text/plain": [
       "<Figure size 1368x864 with 0 Axes>"
      ]
     },
     "metadata": {},
     "output_type": "display_data"
    }
   ],
   "source": [
    "fig1 = plt.figure(figsize=(19, 12))\n",
    "ax = plt.axes(projection = ccrs.Robinson(central_longitude = ocean_centre[ocean_choice]))\n",
    "plt.pcolormesh(gridlons1, gridlats1, data_salinity[0], transform = ccrs.PlateCarree(), cmap = 'coolwarm')\n",
    "cbar = plt.colorbar()\n",
    "plt.clim(30, 40)\n",
    "cbar.set_label('Sea Water Salinity', rotation=270,labelpad=12)\n",
    "ax.add_feature(cfeature.LAND)\n",
    "ax.add_feature(cfeature.COASTLINE)\n",
    "ax.add_feature(cfeature.LAKES, alpha=0.5)\n",
    "ax.add_feature(cfeature.RIVERS, alpha=0.5)\n",
    "ax.set_title('April 2021')\n",
    "plt.show()\n",
    "plt.savefig('Sea Surface Salinity April 2021')\n",
    "\n",
    "\n",
    "fig2 =  plt.figure(figsize=(19, 12))\n",
    "# ax = fig.add_subplot(1, 1, 1, projection=ccrs.Robinson(central_longitude = -158))\n",
    "ax = plt.axes(projection=ccrs.Robinson(central_longitude = ocean_centre[ocean_choice]))\n",
    "plt.pcolormesh(gridlons2, gridlats2, data_salinity[1], transform = ccrs.PlateCarree(), cmap = 'coolwarm')\n",
    "cbar = plt.colorbar()\n",
    "plt.clim(30, 40)\n",
    "cbar.set_label('Sea Water Salinity', rotation=270,labelpad=12)\n",
    "ax.add_feature(cfeature.LAND)\n",
    "ax.add_feature(cfeature.COASTLINE)\n",
    "ax.add_feature(cfeature.LAKES, alpha=0.5)\n",
    "ax.add_feature(cfeature.RIVERS, alpha=0.5)\n",
    "ax.set_title('April 1922')\n",
    "plt.show()\n",
    "plt.savefig('Sea Surface Salinity April 1922')"
   ]
  }
 ],
 "metadata": {
  "kernelspec": {
   "display_name": "Python 3 (ipykernel)",
   "language": "python",
   "name": "python3"
  },
  "language_info": {
   "codemirror_mode": {
    "name": "ipython",
    "version": 3
   },
   "file_extension": ".py",
   "mimetype": "text/x-python",
   "name": "python",
   "nbconvert_exporter": "python",
   "pygments_lexer": "ipython3",
   "version": "3.9.7"
  },
  "widgets": {
   "application/vnd.jupyter.widget-state+json": {
    "state": {},
    "version_major": 2,
    "version_minor": 0
   }
  }
 },
 "nbformat": 4,
 "nbformat_minor": 5
}
